{
 "cells": [
  {
   "cell_type": "markdown",
   "metadata": {},
   "source": [
    "# Final Project (Due: 4/29/2024 at 4:00 sharp - start of the final exam)\n",
    "\n",
    "### Name: Minati Alphonso\n",
    "### Course Level: 761\n",
    "\n",
    "### You are NOT allowed to use models/tools from the scikit-learn toolbox.  Similar to other projects, you are free to use anything we've discussed in class, code from your other projects, etc. "
   ]
  },
  {
   "cell_type": "markdown",
   "metadata": {},
   "source": [
    "**Introduction:**\n",
    "* In this project, we explore the wonderful world of natural language processing (NLP) and sentiment analysis.  As noted in class, this will a a **bakeoff** competition!  However, in the interest of grading, the bakeoff portion will only account for 15% of your grade.  The remaining portions of the grade will be determined from:\n",
    "\n",
    "1. Your model complexity.\n",
    "2. Your code style and correctness.\n",
    "3. Your write-up (this document), evalaution instructions, and presentation (for 5xx/7xx students)"
   ]
  },
  {
   "cell_type": "markdown",
   "metadata": {},
   "source": [
    "**Objectives:**\n",
    "* The objective of this project is to develop a classifier for sentiment analysis.  As with all other projects, the level of dificulty increases depending on the level you are in the course.\n",
    "\n",
    "* You should familiarize yourself with the dataset by visiting the [Kaggle Site](https://www.kaggle.com/datasets/bhavikjikadara/emotions-dataset)"
   ]
  },
  {
   "cell_type": "markdown",
   "metadata": {},
   "source": [
    "## All Students\n",
    "\n",
    "* The analysis of this project will be slightly different than the analysis of previous projects in several ways:\n",
    "\n",
    "1. You will be given a training set (labeled data) to build your model (similar to before) where you'll want to do some cross-validation to ensure your model generalizes well.\n",
    "2. You will be given a separate \"test\" set, however, the test set will NOT contain labels (this is to ensure you do NOT use the test set for training your model - common in competitions).\n",
    "3. You will use your model to generate a set of predictions and write them to file (**EXACTLY**) like the file \"emotion_prediction_example.csv\" in D2L (this format must be followed exactly or your predicitons will be off - and you'll lose points)\n",
    "    - This is how Jackson will \"score\" the classifier (he has the correct predictions, so he'll compare them with your model predictions for accuracy)\n",
    "4. Project writeup/presentation."
   ]
  },
  {
   "cell_type": "markdown",
   "metadata": {},
   "source": [
    "## Graduate Students Only\n",
    "\n",
    "* For the graduate students, you will be given the raw data (we've trimmed it so you shouldn't need an HPC to store the data).  You will need to:\n",
    "\n",
    "1. Determine how you want to encode the data from words/sentences to feature space (there are multiple methods to accomplish this task)\n",
    "    - You may use some built-in functions to accomplish this, but only for the generation of features.\n",
    "2. Do some exploritory data analysis to see how the data is distributed and develop some meaningful visualizations.\n",
    "3. Determine how you want to design a test/train set for validation of your model.\n",
    "4. Determine what model you want to use (can be a collection of models for an ensemble if you want), and justify why you like this model.\n",
    "5. Build the model and do the model validation (present the validation results).\n",
    "6. Evaluate your model on the test set (provided) and create your predictions for the bakeoff portion.\n",
    "7. Submit:\n",
    "    - Your writeup with sufficient detail (both in code AND markdown) to understand what you've done, why, and what your results illustrate (this should be in a table illustrating aaccuracy for each fold)\n",
    "    - Your .csv of predictions for the bakeoff.\n",
    "\n",
    "* **Note:** Graduate students will work solo on this project and design a presentation (no more than 10 minutes with a couple minutes for questions).  You will present your EDA, model development, and results to the class during the normal final exam schedule 4/29/2024 at 4:00 MST)\n",
    "\n"
   ]
  },
  {
   "cell_type": "markdown",
   "metadata": {},
   "source": [
    "### Quick Overview\n",
    "#### Model used: RandomForest Classifier\n",
    "#### Encoder used: Term Frequency Inverse Document Frequency (TF-IDF)"
   ]
  },
  {
   "cell_type": "code",
   "execution_count": 1,
   "metadata": {},
   "outputs": [],
   "source": [
    "# Code here #\n",
    "import numpy as np\n",
    "import matplotlib.pyplot as plt\n",
    "from collections import Counter\n",
    "import math\n",
    "import re"
   ]
  },
  {
   "cell_type": "markdown",
   "metadata": {},
   "source": [
    "#### Function to preprocess text data: remove non-alphabetic characters and convert to lowercase"
   ]
  },
  {
   "cell_type": "code",
   "execution_count": 2,
   "metadata": {},
   "outputs": [],
   "source": [
    "def preprocess_text(X):\n",
    "    processed_texts = []\n",
    "    for text in X:\n",
    "        # remove non-alphabet and turn to lowercase\n",
    "        cleaned_text = re.sub(r'[^a-zA-Z\\s]', '', text).lower()\n",
    "        processed_texts.append(cleaned_text)\n",
    "\n",
    "    return np.array(processed_texts)"
   ]
  },
  {
   "cell_type": "markdown",
   "metadata": {},
   "source": [
    "#### Function to build vocabulary and calculate document frequency for terms in the documents\n",
    "\n",
    "To be able to successfully calculate the TDIDF matrix, I need to find a way to reduce the vocabulary a bit. I understand that in doing so, I might be missing an important word, but this was the best way I could think of. I am essentially keeping words that appear in atleast 1/8 of a per cent (or 0.0025) of all the documents."
   ]
  },
  {
   "cell_type": "code",
   "execution_count": 3,
   "metadata": {},
   "outputs": [],
   "source": [
    "def build_vocabulary_and_doc_freq(doc_list, stopwords, min_doc_percentage=0.0025):\n",
    "    min_doc_freq = int(len(doc_list) * min_doc_percentage)\n",
    "    \n",
    "    doc_freq = Counter() # how many documents contain the term\n",
    "    \n",
    "    for doc in doc_list:\n",
    "        unique_terms = set(doc.split())\n",
    "        doc_freq.update(unique_terms) # count each term once per document\n",
    "    \n",
    "    \n",
    "    vocabulary = {term: idx for idx, term in \n",
    "                  enumerate(term for term in sorted(doc_freq) \n",
    "                            if doc_freq[term] >= min_doc_freq \n",
    "                            and term not in stopwords)}\n",
    "    \n",
    "    return vocabulary, doc_freq"
   ]
  },
  {
   "cell_type": "markdown",
   "metadata": {},
   "source": [
    "#### Calculate TF-IDF values for a list of documents (rows in X)\n",
    "- TF-IDF: evaluates the importance of a word to a document in a collection.\n",
    "- TF or term frequency: measures how frequently a term occurs in a document.\n",
    "- IDF or Inverse Document Frequency: measures how important a term is within the entire list of documents\n",
    "\n",
    "I had a lot of space related issues with this. I ended up having to reduce the vocabulary a bit and also calculate document frequency alongside the vocabulary inorder to get rid of multiple loops. Document in this context refers to every row in the dataset."
   ]
  },
  {
   "cell_type": "code",
   "execution_count": 4,
   "metadata": {},
   "outputs": [],
   "source": [
    "# TF-IDF or Term Frequency-Inverse Document Frequency\n",
    "# TF = # times the term appears in the document / # terms in the document\n",
    "# IDF = log(# documents / # documents with term 't')\n",
    "# TF_IDF = TF*IDF\n",
    "def calc_tfidf(doc_list, vocabulary, doc_freq, num_docs):\n",
    "    num_terms = len(vocabulary)\n",
    "    \n",
    "    # initialize a dense matrix\n",
    "    tfidf_matrix = np.zeros((num_docs, num_terms), dtype=np.float32)\n",
    "    \n",
    "    idf_values = {term: np.log((num_docs+1)/(doc_freq[term]+1)) for term in vocabulary}\n",
    "    \n",
    "    for doc_idx, doc in enumerate(doc_list):\n",
    "        terms = doc.split()\n",
    "        doc_length = len(terms)\n",
    "        term_freq = Counter(terms)\n",
    "        for term, freq in term_freq.items():\n",
    "            if term in vocabulary:\n",
    "                tf = freq / doc_length\n",
    "                idf = idf_values[term]\n",
    "                tfidf_matrix[doc_idx, vocabulary[term]] = tf * idf\n",
    "    \n",
    "    return tfidf_matrix"
   ]
  },
  {
   "cell_type": "markdown",
   "metadata": {},
   "source": [
    "#### Classes for implementing decision tree and random forest model\n",
    "\n",
    "These functions are based on what was done in the previous project. The most notable difference is that I am looking at only the non-zero entries for every feature when finding the best split. This saves a lot of time as the TFIDF matrix tends to have many zero values which are not helpful. Additionally, I am also generating thresholds at different percentiles, this greatly helps with the time to run this. "
   ]
  },
  {
   "cell_type": "code",
   "execution_count": 5,
   "metadata": {},
   "outputs": [],
   "source": [
    "# Function to determine the most common class label\n",
    "def calculate_mode(y):\n",
    "    return np.argmax(np.bincount(y))\n",
    "\n",
    "class Node:\n",
    "    def __init__(self, feature_index=None, threshold=None, left=None, right=None, value=None):\n",
    "        self.feature_index = feature_index # index of feature used for splitting\n",
    "        self.threshold = threshold # threshold value at split\n",
    "        self.left = left\n",
    "        self.right = right\n",
    "        self.value = value # class value if this is leaf node\n",
    "\n",
    "class DecisionTree:\n",
    "    def __init__(self, max_depth, min_samples, default_label):\n",
    "        self.max_depth = max_depth\n",
    "        self.min_samples = min_samples\n",
    "        self.default_label = default_label\n",
    "        self.tree = None\n",
    "    \n",
    "    def fit(self, X, y):\n",
    "        self.tree = self._build_tree(X, y, 0)\n",
    "    \n",
    "    def predict(self, X):\n",
    "        return [self._dt_predict(x_sample, self.tree) for x_sample in X]\n",
    "    \n",
    "    def _dt_predict(self, x_sample, node):\n",
    "        if node.value is not None:\n",
    "            return node.value\n",
    "        elif x_sample[node.feature_index] < node.threshold:\n",
    "            return self._dt_predict(x_sample, node.left)\n",
    "        else:\n",
    "            return self._dt_predict(x_sample, node.right)\n",
    "    \n",
    "    def _build_tree(self, X, y, depth):\n",
    "        if len(y) < self.min_samples or depth >= self.max_depth:\n",
    "            common_label = calculate_mode(y)\n",
    "            #print(f\"Leaf: depth {depth}, label {common_label}.\")\n",
    "            return Node(value=common_label)\n",
    "        \n",
    "        # find best split\n",
    "        best_feature, best_threshold = self._find_best_split(X, y)\n",
    "        \n",
    "        if best_feature is None:\n",
    "            common_label = calculate_mode(y)\n",
    "            #print(f\"No valid split. Leaf at depth {depth} with label {common_label}.\")\n",
    "            return Node(value=common_label)\n",
    "        \n",
    "        # split dataset\n",
    "        left_indices = X[:,best_feature] < best_threshold\n",
    "        right_indices = X[:,best_feature] >= best_threshold\n",
    "        \n",
    "        # handle case where one side is empty\n",
    "        if np.sum(left_indices) == 0 or np.sum(right_indices) == 0:\n",
    "            common_label = calculate_mode(y)\n",
    "            #print(f\"No valid split. Leaf at depth {depth} with label {common_label}.\")\n",
    "            return Node(value=common_label)\n",
    "        \n",
    "        #print(f\"Split at depth {depth} on feature {best_feature}.\")\n",
    "        left = self._build_tree(X[left_indices], y[left_indices], depth+1)\n",
    "        right = self._build_tree(X[right_indices], y[right_indices], depth+1)\n",
    "        \n",
    "        return Node(feature_index=best_feature, threshold=best_threshold, left=left, right=right)\n",
    "    \n",
    "    def _find_best_split(self, X, y):\n",
    "        n_samples, n_features = X.shape\n",
    "        if n_samples <= 1:\n",
    "            return None, None\n",
    "        \n",
    "        best_feature = None\n",
    "        best_threshold = None\n",
    "        best_ig = -np.inf\n",
    "        \n",
    "        # calculate entropy once for entire dataset\n",
    "        parent_entropy = self._entropy(y)\n",
    "        \n",
    "        print_interval = n_features//10\n",
    "        # iterate through each feature\n",
    "        for feature_index in range(n_features):\n",
    "            # get the non-zero entries for this feature\n",
    "            nonzero_indices = X[:,feature_index].nonzero()[0]\n",
    "            if len(nonzero_indices) <= 1:\n",
    "                continue\n",
    "            \n",
    "            X_nonzero = X[nonzero_indices,feature_index].data\n",
    "            y_nonzero = y[nonzero_indices]\n",
    "            \n",
    "            # generate thresholds at various percentiles\n",
    "            thresholds = np.percentile(X_nonzero, np.linspace(10,90,9)) # percentiles from 10th to 90th\n",
    "            # iterate over the thresholds\n",
    "            for threshold in thresholds:\n",
    "                ig = self._ig(X_nonzero, y_nonzero, threshold, parent_entropy)\n",
    "                \n",
    "                if ig > best_ig:\n",
    "                    best_ig = ig\n",
    "                    best_threshold = threshold\n",
    "                    best_feature = feature_index\n",
    "        \n",
    "        return best_feature, best_threshold\n",
    "    \n",
    "    def _entropy(self, y):\n",
    "        _, counts = np.unique(y, return_counts=True)\n",
    "        probabilities = counts/counts.sum()\n",
    "        entropy = -np.sum(probabilities * np.log2(probabilities))\n",
    "        return entropy\n",
    "\n",
    "    def _c_entropy(self, X, y, threshold):\n",
    "        left_indices = X < threshold\n",
    "        right_indices = X >= threshold\n",
    "        \n",
    "        left_entropy = self._entropy(y[left_indices])\n",
    "        right_entropy = self._entropy(y[right_indices])\n",
    "\n",
    "        left_weight = np.sum(left_indices)/len(y)\n",
    "        right_weight = np.sum(right_indices)/len(y)\n",
    "\n",
    "        c_entropy = (left_weight * left_entropy) + (right_weight * right_entropy)\n",
    "        return c_entropy\n",
    "\n",
    "    def _ig(self, X, y, threshold, parent_entropy):\n",
    "        ig = parent_entropy - self._c_entropy(X, y, threshold)\n",
    "        return ig\n",
    "\n",
    "class RandomForestClassifier:\n",
    "    def __init__(self, n_trees, max_depth, min_samples, n_samples, default_label):\n",
    "        self.n_trees = n_trees\n",
    "        self.max_depth = max_depth\n",
    "        self.min_samples = min_samples\n",
    "        self.n_samples = n_samples\n",
    "        self.default_label = default_label\n",
    "        self.forest = []\n",
    "        \n",
    "    def fit(self, X, y):\n",
    "        print(\"Training Trees...\")\n",
    "        for i in range(self.n_trees):\n",
    "            print(f\"Training tree {i+1} ...\")\n",
    "            sample_X, sample_y = self._bootstrap_sample(X, y, self.n_samples)\n",
    "            tree = DecisionTree(self.max_depth, self.min_samples, self.default_label)\n",
    "            tree.fit(sample_X, sample_y)\n",
    "            self.forest.append(tree)\n",
    "        print(f\"{n_trees} trees trained.\")\n",
    "    def predict(self, X):\n",
    "        predictions = np.array([tree.predict(X) for tree in self.forest])\n",
    "        predictions = predictions.T # (n_samples, n_trees)\n",
    "\n",
    "        # majority vote\n",
    "        final_predictions = np.array([calculate_mode(pred) for pred in predictions])\n",
    "\n",
    "        return final_predictions\n",
    "    \n",
    "    def _bootstrap_sample(self, X, y, n_samples):\n",
    "        indices = np.random.randint(0, X.shape[0], size=n_samples)\n",
    "        return X[indices], y[indices]"
   ]
  },
  {
   "cell_type": "markdown",
   "metadata": {},
   "source": [
    "#### Function to balance out the training dataset because of skewed distribution of classes.\n",
    "I noticed that my models were very biased towards 1 given that it has a very high distribution. This function returns data in a way that keeps it having an even distribution of every label. It uses the class with smallest frequency to determine how many samples to keep in each class. \n",
    "I ended up removing this function since it did not help with my accuracy and my model was still always predicting class 1."
   ]
  },
  {
   "cell_type": "code",
   "execution_count": 6,
   "metadata": {},
   "outputs": [],
   "source": [
    "def under_sample(X, y):\n",
    "    unique_labels, counts = np.unique(y, return_counts=True)\n",
    "    n_samples = min(counts) # use smallest class to define the sampling rate\n",
    "    \n",
    "    indices_keep = []\n",
    "    for label in unique_labels:\n",
    "        indices = np.where(y == label)[0]\n",
    "        if len(indices) > n_samples:\n",
    "            sample_indices = np.random.choice(indices, size=n_samples, replace=False)\n",
    "        else:\n",
    "            sample_indices = indices\n",
    "        indices_keep.extend(sample_indices)\n",
    "    \n",
    "    X_resampled = X[indices_keep]\n",
    "    y_resampled = y[indices_keep]\n",
    "    \n",
    "    return X_resampled, y_resampled"
   ]
  },
  {
   "cell_type": "markdown",
   "metadata": {},
   "source": [
    "#### Get the Training Dataset and separate into data and labels"
   ]
  },
  {
   "cell_type": "code",
   "execution_count": 7,
   "metadata": {},
   "outputs": [
    {
     "name": "stdout",
     "output_type": "stream",
     "text": [
      "train_data.shape: (416809,)\n",
      "train_labels.shape: (416809,)\n",
      "train_labels distribution:\n",
      " Counter({1: 141067, 0: 121187, 3: 57317, 4: 47712, 2: 34554, 5: 14972})\n"
     ]
    }
   ],
   "source": [
    "# Train Data\n",
    "raw_train_data = np.loadtxt(\"emotion_train_grad.csv\",delimiter=\",\",dtype=str)\n",
    "train_header = raw_train_data[:1]\n",
    "\n",
    "train_data = raw_train_data[1:,0]\n",
    "train_labels = raw_train_data[1:,1].astype(int)\n",
    "print(f\"train_data.shape: {train_data.shape}\")\n",
    "print(f\"train_labels.shape: {train_labels.shape}\")\n",
    "print(\"train_labels distribution:\\n\",Counter(train_labels))"
   ]
  },
  {
   "cell_type": "markdown",
   "metadata": {},
   "source": [
    "#### Plot the label distribution of the training dataset"
   ]
  },
  {
   "cell_type": "code",
   "execution_count": 8,
   "metadata": {},
   "outputs": [
    {
     "data": {
      "image/png": "[encoded data removed]",
      "text/plain": [
       "<Figure size 640x480 with 1 Axes>"
      ]
     },
     "metadata": {},
     "output_type": "display_data"
    }
   ],
   "source": [
    "unique_train_labels, train_labels_count = np.unique(train_labels, return_counts=True)\n",
    "plt.figure()\n",
    "plt.bar(unique_train_labels, train_labels_count)\n",
    "plt.xlabel(\"Labels\")\n",
    "plt.ylabel(\"Frequency\")\n",
    "plt.title(\"Distribution of Labels in the Training Data\")\n",
    "plt.xticks(unique_train_labels)\n",
    "plt.show()"
   ]
  },
  {
   "cell_type": "markdown",
   "metadata": {},
   "source": [
    "#### A list of stopwords\n",
    "\n",
    "I did use the nltk toolkit to get this list. I have tried running my model without the stopwords too, but not much difference."
   ]
  },
  {
   "cell_type": "code",
   "execution_count": 9,
   "metadata": {},
   "outputs": [],
   "source": [
    "# import nltk\n",
    "# from nltk.corpus import stopwords\n",
    "# english_stopwords = stopwords.words('english')\n",
    "# english_stopwords = [re.sub(r'[^a-zA-Z\\s]', '', words).lower() for words in english_stopwords]\n",
    "# print(english_stopwords)\n",
    "stopwords = ['i', 'me', 'my', 'myself', 'we', 'our', 'ours', 'ourselves', 'you', 'youre', 'youve',\n",
    "             'youll', 'youd', 'your', 'yours', 'yourself', 'yourselves', 'he', 'him', 'his',\n",
    "             'himself', 'she', 'shes', 'her', 'hers', 'herself', 'it', 'its', 'its', 'itself',\n",
    "             'they', 'them', 'their', 'theirs', 'themselves', 'what', 'which', 'who', 'whom',\n",
    "             'this', 'that', 'thatll', 'these', 'those', 'am', 'is', 'are', 'was', 'were', 'be',\n",
    "             'been', 'being', 'have', 'has', 'had', 'having', 'do', 'does', 'did', 'doing', 'a',\n",
    "             'an', 'the', 'and', 'but', 'if', 'or', 'because', 'as', 'until', 'while', 'of', 'at',\n",
    "             'by', 'for', 'with', 'about', 'against', 'between', 'into', 'through', 'during',\n",
    "             'before', 'after', 'above', 'below', 'to', 'from', 'up', 'down', 'in', 'out', 'on',\n",
    "             'off', 'over', 'under', 'again', 'further', 'then', 'once', 'here', 'there', 'when',\n",
    "             'where', 'why', 'how', 'all', 'any', 'both', 'each', 'few', 'more', 'most', 'other',\n",
    "             'some', 'such', 'no', 'nor', 'not', 'only', 'own', 'same', 'so', 'than', 'too',\n",
    "             'very', 's', 't', 'can', 'will', 'just', 'don', 'dont', 'should', 'shouldve', 'now',\n",
    "             'd', 'll', 'm', 'o', 're', 've', 'y', 'ain', 'aren', 'arent', 'couldn', 'couldnt',\n",
    "             'didn', 'didnt', 'doesn', 'doesnt', 'hadn', 'hadnt', 'hasn', 'hasnt', 'haven',\n",
    "             'havent', 'isn', 'isnt', 'ma', 'mightn', 'mightnt', 'mustn', 'mustnt', 'needn',\n",
    "             'neednt', 'shan', 'shant', 'shouldn', 'shouldnt', 'wasn', 'wasnt', 'weren', 'werent',\n",
    "             'won', 'wont', 'wouldn', 'wouldnt']"
   ]
  },
  {
   "cell_type": "markdown",
   "metadata": {},
   "source": [
    "#### 5-fold Cross Validation\n",
    "\n",
    "I am using the Random Forest classifier. I am splitting the training dataset into training and valdidation with a 80-20 split ratio and recording the accuracies for each fold. Before the loop starts, I first clean my text to make sure it is all in lowercase and only alphabets.\n",
    "\n",
    "Accuracy for:\n",
    "- Fold 1: 0.343\n",
    "- Fold 2: 0.338\n",
    "- Fold 3: 0.34\n",
    "- Fold 4: 0.342\n",
    "- Fold 5: 0.342"
   ]
  },
  {
   "cell_type": "code",
   "execution_count": 10,
   "metadata": {
    "scrolled": true
   },
   "outputs": [
    {
     "name": "stdout",
     "output_type": "stream",
     "text": [
      "Training Trees...\n",
      "Training tree 1 ...\n",
      "Training tree 2 ...\n",
      "Training tree 3 ...\n",
      "Training tree 4 ...\n",
      "Training tree 5 ...\n",
      "Training tree 6 ...\n",
      "Training tree 7 ...\n",
      "Training tree 8 ...\n",
      "Training tree 9 ...\n",
      "Training tree 10 ...\n",
      "Training tree 11 ...\n",
      "Training tree 12 ...\n",
      "Training tree 13 ...\n",
      "Training tree 14 ...\n",
      "Training tree 15 ...\n",
      "15 trees trained.\n",
      "Fold 1 accuracy: 0.343\n",
      "Training Trees...\n",
      "Training tree 1 ...\n",
      "Training tree 2 ...\n",
      "Training tree 3 ...\n",
      "Training tree 4 ...\n",
      "Training tree 5 ...\n",
      "Training tree 6 ...\n",
      "Training tree 7 ...\n",
      "Training tree 8 ...\n",
      "Training tree 9 ...\n",
      "Training tree 10 ...\n",
      "Training tree 11 ...\n",
      "Training tree 12 ...\n",
      "Training tree 13 ...\n",
      "Training tree 14 ...\n",
      "Training tree 15 ...\n",
      "15 trees trained.\n",
      "Fold 2 accuracy: 0.338\n",
      "Training Trees...\n",
      "Training tree 1 ...\n",
      "Training tree 2 ...\n",
      "Training tree 3 ...\n",
      "Training tree 4 ...\n",
      "Training tree 5 ...\n",
      "Training tree 6 ...\n",
      "Training tree 7 ...\n",
      "Training tree 8 ...\n",
      "Training tree 9 ...\n",
      "Training tree 10 ...\n",
      "Training tree 11 ...\n",
      "Training tree 12 ...\n",
      "Training tree 13 ...\n",
      "Training tree 14 ...\n",
      "Training tree 15 ...\n",
      "15 trees trained.\n",
      "Fold 3 accuracy: 0.34\n",
      "Training Trees...\n",
      "Training tree 1 ...\n",
      "Training tree 2 ...\n",
      "Training tree 3 ...\n",
      "Training tree 4 ...\n",
      "Training tree 5 ...\n",
      "Training tree 6 ...\n",
      "Training tree 7 ...\n",
      "Training tree 8 ...\n",
      "Training tree 9 ...\n",
      "Training tree 10 ...\n",
      "Training tree 11 ...\n",
      "Training tree 12 ...\n",
      "Training tree 13 ...\n",
      "Training tree 14 ...\n",
      "Training tree 15 ...\n",
      "15 trees trained.\n",
      "Fold 4 accuracy: 0.342\n",
      "Training Trees...\n",
      "Training tree 1 ...\n",
      "Training tree 2 ...\n",
      "Training tree 3 ...\n",
      "Training tree 4 ...\n",
      "Training tree 5 ...\n",
      "Training tree 6 ...\n",
      "Training tree 7 ...\n",
      "Training tree 8 ...\n",
      "Training tree 9 ...\n",
      "Training tree 10 ...\n",
      "Training tree 11 ...\n",
      "Training tree 12 ...\n",
      "Training tree 13 ...\n",
      "Training tree 14 ...\n",
      "Training tree 15 ...\n",
      "15 trees trained.\n",
      "Fold 5 accuracy: 0.342\n"
     ]
    }
   ],
   "source": [
    "accuracies = []\n",
    "train_data_processed = preprocess_text(train_data)\n",
    "for i in range(5):\n",
    "    num_observations = len(train_data_processed)\n",
    "\n",
    "    # shuffle the data\n",
    "    shuffled_indices = np.random.permutation(num_observations)\n",
    "    train_data_shuffled = train_data_processed[shuffled_indices]\n",
    "    train_labels_shuffled = train_labels[shuffled_indices]\n",
    "\n",
    "    # calculate split index\n",
    "    split_ratio = 0.80 # 80-20 split\n",
    "    split_idx =  int(num_observations*split_ratio)\n",
    "\n",
    "    # split the data\n",
    "    X_train = train_data_shuffled[:split_idx]\n",
    "    y_train = train_labels_shuffled[:split_idx]\n",
    "    X_val = train_data_shuffled[split_idx:]\n",
    "    y_val = train_labels_shuffled[split_idx:]\n",
    "    \n",
    "    # apply under-sampling to balance the training data\n",
    "    #X_train, y_train = under_sample(X_train, y_train)\n",
    "    #print(f\"X_train.shape: {X_train.shape}, y_train.shape: {y_train.shape}\")\n",
    "    vocab, df = build_vocabulary_and_doc_freq(X_train, stopwords)\n",
    "    tfidf_matrix_train = calc_tfidf(X_train, vocab, df, len(X_train))\n",
    "\n",
    "    tfidf_matrix_val = calc_tfidf(X_val, vocab, df, len(X_val))\n",
    "    \n",
    "    default_label = calculate_mode(y_train)\n",
    "    n_trees = 15\n",
    "    max_depth = 10\n",
    "    min_samples = 5\n",
    "    n_samples = int(0.66 * tfidf_matrix_train.shape[0]) # 2/3\n",
    "\n",
    "    model = RandomForestClassifier(n_trees, max_depth, min_samples, n_samples, default_label)\n",
    "    model.fit(tfidf_matrix_train, y_train)\n",
    "    \n",
    "    val_predictions = model.predict(tfidf_matrix_val)\n",
    "    val_accuracy = np.sum(val_predictions == y_val)/ len(y_val)\n",
    "    accuracies.append(val_accuracy)\n",
    "    print(f\"Fold {i+1} accuracy: {val_accuracy:.3}\")\n"
   ]
  },
  {
   "cell_type": "markdown",
   "metadata": {},
   "source": [
    "#### As you can see below, the accuracy is only around 34%. Really bad. I am guessing that whatever is correct is because the predicted 1 matched, given that my model seems to be always predicting 1s."
   ]
  },
  {
   "cell_type": "code",
   "execution_count": 11,
   "metadata": {},
   "outputs": [
    {
     "name": "stdout",
     "output_type": "stream",
     "text": [
      "Mean Accuracy: 0.34095871020369, Standard Deviation: 0.0018143694106302968\n"
     ]
    }
   ],
   "source": [
    "mean_accuracy = np.mean(accuracies)\n",
    "std_deviation = np.std(accuracies)\n",
    "print(f\"Mean Accuracy: {mean_accuracy}, Standard Deviation: {std_deviation}\")"
   ]
  },
  {
   "cell_type": "markdown",
   "metadata": {},
   "source": [
    "#### Now, I am retraining the model on the entire training dataset, followed by predicting on the test dataset"
   ]
  },
  {
   "cell_type": "code",
   "execution_count": 12,
   "metadata": {},
   "outputs": [
    {
     "name": "stdout",
     "output_type": "stream",
     "text": [
      "Vocabulary Size: 675\n",
      "tfidf_matrix_train.shape: (416809, 675)\n"
     ]
    }
   ],
   "source": [
    "# Retrain on entire training dataset\n",
    "vocabulary, doc_freq = build_vocabulary_and_doc_freq(train_data_processed, stopwords)\n",
    "print(f\"Vocabulary Size: {len(vocabulary)}\")\n",
    "tfidf_matrix_train = calc_tfidf(train_data_processed, vocabulary, doc_freq, len(train_data_processed))\n",
    "print(f\"tfidf_matrix_train.shape: {tfidf_matrix_train.shape}\")"
   ]
  },
  {
   "cell_type": "markdown",
   "metadata": {},
   "source": [
    "#### In the following code snippet, I am trying to get a feel of what the TFIDF matrix is doing and how it is assigning scores. As you can see in the output, 'overwhelmed' has the highest score which means it is more important. So that is a good sign."
   ]
  },
  {
   "cell_type": "code",
   "execution_count": 28,
   "metadata": {},
   "outputs": [
    {
     "name": "stdout",
     "output_type": "stream",
     "text": [
      "i was feeling really overwhelmed \n",
      "\n",
      "Indices:  [183 409 450]\n",
      "Words:  ['feeling', 'overwhelmed', 'really']\n",
      "TFIDF scores:  [0.23231736 0.95752233 0.5705573 ]\n"
     ]
    }
   ],
   "source": [
    "doc_idx = 89\n",
    "print(train_data_processed[doc_idx],\"\\n\")\n",
    "\n",
    "nonzero_indices = tfidf_matrix_train[doc_idx].nonzero()[0]\n",
    "print(\"Indices: \",nonzero_indices)\n",
    "index_to_word = {index: word for word, index in vocabulary.items()}\n",
    "print(\"Words: \", [index_to_word.get(i) for i in nonzero_indices])\n",
    "print(\"TFIDF scores: \", tfidf_matrix_train[doc_idx, nonzero_indices])"
   ]
  },
  {
   "cell_type": "markdown",
   "metadata": {},
   "source": [
    "#### Plotting the top terms by their TFIDF scores\n",
    "This doesn't look too good given that 'bit' has the highest score and most of these words are very neutral toned too."
   ]
  },
  {
   "cell_type": "code",
   "execution_count": 42,
   "metadata": {},
   "outputs": [
    {
     "data": {
      "image/png": "[encoded data removed]",
      "text/plain": [
       "<Figure size 1000x600 with 1 Axes>"
      ]
     },
     "metadata": {},
     "output_type": "display_data"
    }
   ],
   "source": [
    "sum_tfidf = np.sum(tfidf_matrix_train, axis=0)  # Sum TF-IDF scores for each term across all documents\n",
    "sorted_indices = np.argsort(sum_tfidf)[::-1]  # Sort indices by sum of TF-IDF scores\n",
    "\n",
    "top_n = 20\n",
    "top_terms = [term for term, idx in vocabulary.items() if idx in sorted_indices[:top_n]]\n",
    "top_scores = sum_tfidf[sorted_indices[:top_n]]\n",
    "\n",
    "plt.figure(figsize=(10, 6))\n",
    "plt.barh(range(top_n), top_scores[top_n::-1])\n",
    "plt.yticks(range(top_n), top_terms[top_n::-1])\n",
    "plt.xlabel('Sum of TF-IDF Scores')\n",
    "plt.title('Top Terms by TF-IDF Score')\n",
    "plt.gca().invert_yaxis()\n",
    "plt.show()"
   ]
  },
  {
   "cell_type": "markdown",
   "metadata": {},
   "source": [
    "#### Plotting overall word frequency\n",
    "\n",
    "These are the most common words across all the documents or rows of the dataset. I did notice that 'bit' is not in the top 20, but it does have the highest tfidf score."
   ]
  },
  {
   "cell_type": "code",
   "execution_count": 52,
   "metadata": {},
   "outputs": [
    {
     "data": {
      "image/png": "[encoded data removed]",
      "text/plain": [
       "<Figure size 640x480 with 1 Axes>"
      ]
     },
     "metadata": {},
     "output_type": "display_data"
    }
   ],
   "source": [
    "# overall word frequency\n",
    "word_freq = Counter()\n",
    "for row in train_data_processed:\n",
    "    words = [word for word in row.split() if word not in stopwords]\n",
    "    word_freq.update(words)\n",
    "\n",
    "# plot 20 most common words\n",
    "words, counts = zip(*word_freq.most_common(20))\n",
    "plt.figure()\n",
    "plt.barh(words, counts, color='skyblue')\n",
    "plt.xlabel('Frequency')\n",
    "plt.title('Most Common Words')\n",
    "plt.gca().invert_yaxis()\n",
    "plt.show()"
   ]
  },
  {
   "cell_type": "code",
   "execution_count": 18,
   "metadata": {},
   "outputs": [
    {
     "name": "stdout",
     "output_type": "stream",
     "text": [
      "Training Trees...\n",
      "Training tree 1 ...\n",
      "Training tree 2 ...\n",
      "Training tree 3 ...\n",
      "Training tree 4 ...\n",
      "Training tree 5 ...\n",
      "Training tree 6 ...\n",
      "Training tree 7 ...\n",
      "Training tree 8 ...\n",
      "Training tree 9 ...\n",
      "Training tree 10 ...\n",
      "Training tree 11 ...\n",
      "Training tree 12 ...\n",
      "Training tree 13 ...\n",
      "Training tree 14 ...\n",
      "Training tree 15 ...\n",
      "15 trees trained.\n"
     ]
    }
   ],
   "source": [
    "model_rf = RandomForestClassifier(n_trees=15, max_depth=10, min_samples=5, n_samples=int(0.66 *len(train_data_processed)), default_label=calculate_mode(train_labels))\n",
    "model_rf.fit(tfidf_matrix_train, train_labels)"
   ]
  },
  {
   "cell_type": "code",
   "execution_count": 19,
   "metadata": {},
   "outputs": [
    {
     "name": "stdout",
     "output_type": "stream",
     "text": [
      "test_data.shape: (10613,)\n"
     ]
    }
   ],
   "source": [
    "# Test Data\n",
    "raw_test_data = np.loadtxt(\"emotion_test_grad.csv\",delimiter=\",\",dtype=str,encoding='utf-8')\n",
    "test_header = raw_test_data[:1]\n",
    "\n",
    "test_data = raw_test_data[1:,1]\n",
    "print(f\"test_data.shape: {test_data.shape}\")"
   ]
  },
  {
   "cell_type": "code",
   "execution_count": 20,
   "metadata": {},
   "outputs": [
    {
     "name": "stdout",
     "output_type": "stream",
     "text": [
      "tfidf_matrix_test.shape: (10613, 675)\n"
     ]
    }
   ],
   "source": [
    "# preprocess and vectorize test data\n",
    "X_test_processed = preprocess_text(test_data)\n",
    "tfidf_matrix_test = calc_tfidf(X_test_processed, vocabulary, doc_freq, len(X_test_processed))\n",
    "print(f\"tfidf_matrix_test.shape: {tfidf_matrix_test.shape}\")"
   ]
  },
  {
   "cell_type": "code",
   "execution_count": 21,
   "metadata": {},
   "outputs": [],
   "source": [
    "final_predictions = model_rf.predict(tfidf_matrix_test)"
   ]
  },
  {
   "cell_type": "markdown",
   "metadata": {},
   "source": [
    "#### It has only predicted 1s. At this point is it even predicting?"
   ]
  },
  {
   "cell_type": "code",
   "execution_count": 23,
   "metadata": {},
   "outputs": [
    {
     "name": "stdout",
     "output_type": "stream",
     "text": [
      "Predictions: [    1 10612]\n"
     ]
    }
   ],
   "source": [
    "print(f\"Predictions: {np.bincount(final_predictions)}\")"
   ]
  },
  {
   "cell_type": "markdown",
   "metadata": {},
   "source": [
    "#### Saving my 'predictions' to a file"
   ]
  },
  {
   "cell_type": "code",
   "execution_count": 56,
   "metadata": {},
   "outputs": [],
   "source": [
    "import pandas as pd\n",
    "ids = np.arange(0, len(final_predictions))\n",
    "predictions_df = pd.DataFrame({\n",
    "    'id': ids,\n",
    "    'pred': final_predictions\n",
    "})\n",
    "predictions_df.to_csv('predictions_Minati_Alphonso.csv', index=False)"
   ]
  },
  {
   "cell_type": "markdown",
   "metadata": {},
   "source": [
    "#### To replicate how the results were scored for the final, run the below code. This has been provided by the TA."
   ]
  },
  {
   "cell_type": "code",
   "execution_count": null,
   "metadata": {},
   "outputs": [],
   "source": [
    "# from sklearn.metrics import confusion_matrix\n",
    "# pred_df = <YOUR PREDICTIONS DATAFRAME>\n",
    "\n",
    "# test_df = pd.read_csv(\"emotion_test_final.csv\")\n",
    "\n",
    "# joined = pd.merge(test_df, pred_df, left_on=\"id\", right_on=\"id\", how=\"left\")\n",
    "# cm = confusion_matrix(joined[\"label\"], joined[\"pred\"])\n",
    "# accuracy = cm.trace() / np.sum(cm)"
   ]
  },
  {
   "cell_type": "markdown",
   "metadata": {},
   "source": []
  }
 ],
 "metadata": {
  "kernelspec": {
   "display_name": "Python 3 (ipykernel)",
   "language": "python",
   "name": "python3"
  },
  "language_info": {
   "codemirror_mode": {
    "name": "ipython",
    "version": 3
   },
   "file_extension": ".py",
   "mimetype": "text/x-python",
   "name": "python",
   "nbconvert_exporter": "python",
   "pygments_lexer": "ipython3",
   "version": "3.11.5"
  }
 },
 "nbformat": 4,
 "nbformat_minor": 2
}
